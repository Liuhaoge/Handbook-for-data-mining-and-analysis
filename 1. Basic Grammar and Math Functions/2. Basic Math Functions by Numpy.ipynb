{
 "cells": [
  {
   "cell_type": "code",
   "execution_count": 22,
   "metadata": {},
   "outputs": [],
   "source": [
    "# Print all the variables, not only the last one\n",
    "from IPython.core.interactiveshell import InteractiveShell\n",
    "InteractiveShell.ast_node_interactivity = \"all\""
   ]
  },
  {
   "cell_type": "code",
   "execution_count": 21,
   "metadata": {},
   "outputs": [],
   "source": [
    "import numpy as np\n",
    "import pandas as pd\n",
    "import matplotlib.pyplot as plt  #导入集成的pyplot\n",
    "%matplotlib inline\n",
    "\n",
    "import matplotlib.mlab as mlab"
   ]
  },
  {
   "cell_type": "code",
   "execution_count": 23,
   "metadata": {},
   "outputs": [],
   "source": [
    "s = pd.Series([-1.111,2.228])\n",
    "\n",
    "df = pd.DataFrame(data=[[-1.111,2.228],[24.7808,-3.812]],columns=['A','B'])"
   ]
  },
  {
   "cell_type": "markdown",
   "metadata": {},
   "source": [
    "#### Set precision"
   ]
  },
  {
   "cell_type": "code",
   "execution_count": 4,
   "metadata": {},
   "outputs": [],
   "source": [
    "np.set_printoptions(precision=4) # 设置之后显示的精确度\n",
    "\n",
    "round(df,2)  # 设置单变量的精确度\n",
    "\n",
    "np.around(np.random.rand(5, 5)*100)  # 设置单变量的精确度"
   ]
  },
  {
   "cell_type": "markdown",
   "metadata": {},
   "source": [
    "#### Data Generation "
   ]
  },
  {
   "cell_type": "code",
   "execution_count": 5,
   "metadata": {},
   "outputs": [
    {
     "data": {
      "text/plain": [
       "array([-10.    ,  -7.7778,  -5.5556,  -3.3333,  -1.1111,   1.1111,\n",
       "         3.3333,   5.5556,   7.7778,  10.    ])"
      ]
     },
     "execution_count": 5,
     "metadata": {},
     "output_type": "execute_result"
    },
    {
     "data": {
      "text/plain": [
       "array([-3.1416, -3.0134, -2.8851, -2.7569, -2.6287, -2.5005, -2.3722,\n",
       "       -2.244 , -2.1158, -1.9875, -1.8593, -1.7311, -1.6029, -1.4746,\n",
       "       -1.3464, -1.2182, -1.0899, -0.9617, -0.8335, -0.7053, -0.577 ,\n",
       "       -0.4488, -0.3206, -0.1923, -0.0641,  0.0641,  0.1923,  0.3206,\n",
       "        0.4488,  0.577 ,  0.7053,  0.8335,  0.9617,  1.0899,  1.2182,\n",
       "        1.3464,  1.4746,  1.6029,  1.7311,  1.8593,  1.9875,  2.1158,\n",
       "        2.244 ,  2.3722,  2.5005,  2.6287,  2.7569,  2.8851,  3.0134,\n",
       "        3.1416])"
      ]
     },
     "execution_count": 5,
     "metadata": {},
     "output_type": "execute_result"
    },
    {
     "data": {
      "text/plain": [
       "array([4, 6, 8])"
      ]
     },
     "execution_count": 5,
     "metadata": {},
     "output_type": "execute_result"
    }
   ],
   "source": [
    "np.arange(4,10,2)   # arange的使用同range   lower : upper : step\n",
    "\n",
    "np.linspace(-10,10,10)  # StartNum, EndNum, How many middle numbers\n",
    "\n",
    "np.linspace(-np.pi,np.pi)   # Default as 50\n",
    "\n",
    "np.logspace(0, 2, 20)  # logspace函数和linspace类似，不过它创建等比数列，下面的例子产生1(10^0)到100(10^2)、有20个元素的等比数列:"
   ]
  },
  {
   "cell_type": "code",
   "execution_count": 31,
   "metadata": {},
   "outputs": [
    {
     "data": {
      "text/plain": [
       "array([[-1,  0,  1],\n",
       "       [-1,  0,  1],\n",
       "       [-1,  0,  1]])"
      ]
     },
     "execution_count": 31,
     "metadata": {},
     "output_type": "execute_result"
    },
    {
     "data": {
      "text/plain": [
       "array([[-1, -1, -1],\n",
       "       [ 0,  0,  0],\n",
       "       [ 1,  1,  1]])"
      ]
     },
     "execution_count": 31,
     "metadata": {},
     "output_type": "execute_result"
    }
   ],
   "source": [
    "# 生成数据网格\n",
    "x, y = [-1, 0, 1], [-1, 0, 1]\n",
    "X, Y = np.meshgrid(x, y)\n",
    "X; Y"
   ]
  },
  {
   "cell_type": "markdown",
   "metadata": {},
   "source": []
  },
  {
   "cell_type": "markdown",
   "metadata": {},
   "source": [
    "### Basic Math functions"
   ]
  },
  {
   "cell_type": "code",
   "execution_count": 28,
   "metadata": {},
   "outputs": [
    {
     "data": {
      "text/plain": [
       "array([[ 2, -1,  3],\n",
       "       [ 3,  3, -1],\n",
       "       [-1, -1,  1]])"
      ]
     },
     "execution_count": 28,
     "metadata": {},
     "output_type": "execute_result"
    },
    {
     "data": {
      "text/plain": [
       "array([[-3, -1,  3],\n",
       "       [10,  3, -1],\n",
       "       [-4, -1,  1]])"
      ]
     },
     "execution_count": 28,
     "metadata": {},
     "output_type": "execute_result"
    }
   ],
   "source": [
    "# 二维数组纵向替换\n",
    "A = np.array([[2, -1, 3], [3, 3, -1], [-1, -1, 1]])\n",
    "b = np.array([-3, 10, -4])\n",
    "\n",
    "A_1b = np.copy(A)\n",
    "A_1b\n",
    "A_1b[:,0]=b\n",
    "A_1b"
   ]
  },
  {
   "cell_type": "code",
   "execution_count": 35,
   "metadata": {},
   "outputs": [
    {
     "data": {
      "text/plain": [
       "(3, 3)"
      ]
     },
     "execution_count": 35,
     "metadata": {},
     "output_type": "execute_result"
    },
    {
     "data": {
      "text/plain": [
       "(1, 3)"
      ]
     },
     "execution_count": 35,
     "metadata": {},
     "output_type": "execute_result"
    },
    {
     "data": {
      "text/plain": [
       "array([[-3, 10, -4]])"
      ]
     },
     "execution_count": 35,
     "metadata": {},
     "output_type": "execute_result"
    }
   ],
   "source": [
    "# 查看数组形状\n",
    "A.shape \n",
    "b.shape\n",
    "\n",
    "b.shape=(1,3); b # 改变array形状"
   ]
  },
  {
   "cell_type": "code",
   "execution_count": 24,
   "metadata": {
    "scrolled": true
   },
   "outputs": [
    {
     "data": {
      "text/plain": [
       "array([ 1,  2,  3, -7])"
      ]
     },
     "execution_count": 24,
     "metadata": {},
     "output_type": "execute_result"
    }
   ],
   "source": [
    "# 计算数列差值，也可以用于计算微积分\n",
    "u8_arr = np.array([1, 2, 4, 7, 0])\n",
    "np.diff(u8_arr)"
   ]
  },
  {
   "cell_type": "code",
   "execution_count": 25,
   "metadata": {},
   "outputs": [
    {
     "data": {
      "text/plain": [
       "15"
      ]
     },
     "execution_count": 25,
     "metadata": {},
     "output_type": "execute_result"
    },
    {
     "data": {
      "text/plain": [
       "120"
      ]
     },
     "execution_count": 25,
     "metadata": {},
     "output_type": "execute_result"
    }
   ],
   "source": [
    "# 计算累加、累乘\n",
    "sum((1,2,3,4,5))\n",
    "np.prod((1,2,3,4,5))"
   ]
  },
  {
   "cell_type": "code",
   "execution_count": 5,
   "metadata": {},
   "outputs": [
    {
     "data": {
      "text/plain": [
       "array([1, 2, 3, 4])"
      ]
     },
     "execution_count": 5,
     "metadata": {},
     "output_type": "execute_result"
    },
    {
     "data": {
      "text/plain": [
       "array([1, 2, 3, 4])"
      ]
     },
     "execution_count": 5,
     "metadata": {},
     "output_type": "execute_result"
    }
   ],
   "source": [
    "# 数列去重\n",
    "a=np.array([1,1,2,3,4,4])\n",
    "b=[1,1,2,3,4,4]\n",
    "np.unique(a)\n",
    "np.unique(b)"
   ]
  },
  {
   "cell_type": "code",
   "execution_count": null,
   "metadata": {},
   "outputs": [],
   "source": [
    "# 计算范数\n",
    "a\n",
    "a_norm1 = np.linalg.norm(a,1); a_norm1  # 1范数：绝对值求和\n",
    "a_norm2 = np.linalg.norm(a,2); a_norm2  # 2范数：欧式距离"
   ]
  },
  {
   "cell_type": "code",
   "execution_count": null,
   "metadata": {},
   "outputs": [],
   "source": [
    "# Calculation function\n",
    "\n",
    "np.log(4)\n"
   ]
  },
  {
   "cell_type": "code",
   "execution_count": null,
   "metadata": {},
   "outputs": [],
   "source": []
  },
  {
   "cell_type": "code",
   "execution_count": null,
   "metadata": {},
   "outputs": [],
   "source": []
  },
  {
   "cell_type": "code",
   "execution_count": null,
   "metadata": {},
   "outputs": [],
   "source": []
  }
 ],
 "metadata": {
  "kernelspec": {
   "display_name": "Python 3",
   "language": "python",
   "name": "python3"
  },
  "language_info": {
   "codemirror_mode": {
    "name": "ipython",
    "version": 3
   },
   "file_extension": ".py",
   "mimetype": "text/x-python",
   "name": "python",
   "nbconvert_exporter": "python",
   "pygments_lexer": "ipython3",
   "version": "3.7.3"
  }
 },
 "nbformat": 4,
 "nbformat_minor": 2
}
